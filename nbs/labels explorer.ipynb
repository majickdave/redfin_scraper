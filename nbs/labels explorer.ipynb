{
 "cells": [
  {
   "cell_type": "markdown",
   "metadata": {},
   "source": [
    "# Use flashtext to parse rich labels for a list of features per listing."
   ]
  },
  {
   "cell_type": "code",
   "execution_count": 1,
   "metadata": {},
   "outputs": [],
   "source": [
    "import pandas as pd\n",
    "from flashtext.keyword import KeywordProcessor\n",
    "from nltk.corpus import stopwords\n",
    "\n",
    "df = pd.read_csv('../data/rich_labels_file.csv')"
   ]
  },
  {
   "cell_type": "code",
   "execution_count": 2,
   "metadata": {
    "scrolled": false
   },
   "outputs": [
    {
     "data": {
      "text/html": [
       "<div>\n",
       "<style scoped>\n",
       "    .dataframe tbody tr th:only-of-type {\n",
       "        vertical-align: middle;\n",
       "    }\n",
       "\n",
       "    .dataframe tbody tr th {\n",
       "        vertical-align: top;\n",
       "    }\n",
       "\n",
       "    .dataframe thead th {\n",
       "        text-align: right;\n",
       "    }\n",
       "</style>\n",
       "<table border=\"1\" class=\"dataframe\">\n",
       "  <thead>\n",
       "    <tr style=\"text-align: right;\">\n",
       "      <th></th>\n",
       "      <th>id</th>\n",
       "      <th>Bedroom Info</th>\n",
       "      <th>Bathroom Info</th>\n",
       "      <th>Rooms Info</th>\n",
       "      <th>Interior Info</th>\n",
       "      <th>Exterior Info</th>\n",
       "      <th>Property Info</th>\n",
       "      <th>Laundry Info</th>\n",
       "      <th>Fireplace Info</th>\n",
       "      <th>Flooring Info</th>\n",
       "      <th>Kitchen+Dining Info</th>\n",
       "      <th>Living Room Info</th>\n",
       "    </tr>\n",
       "  </thead>\n",
       "  <tbody>\n",
       "    <tr>\n",
       "      <th>0</th>\n",
       "      <td>0</td>\n",
       "      <td># of Bedrooms (Above Grade):  3 # of Bedrooms ...</td>\n",
       "      <td># of Baths (Full):  3 # of Baths (1/2):  1 # o...</td>\n",
       "      <td>Main Level Laundry # of Rooms (Above-Ground): ...</td>\n",
       "      <td># of Fireplaces:  1 Living Has Fireplace Lower...</td>\n",
       "      <td>Deck(s) Exterior Material:  Brick, Vinyl Roofi...</td>\n",
       "      <td>Additional Items:  Ceiling Fans, Humidifier, W...</td>\n",
       "      <td>NaN</td>\n",
       "      <td>NaN</td>\n",
       "      <td>NaN</td>\n",
       "      <td>NaN</td>\n",
       "      <td>NaN</td>\n",
       "    </tr>\n",
       "    <tr>\n",
       "      <th>1</th>\n",
       "      <td>2</td>\n",
       "      <td># of Beds (Main Level):  3 Has Master on Main ...</td>\n",
       "      <td>NaN</td>\n",
       "      <td># of Dining Rooms:  1 # of Living Rooms:  1 Di...</td>\n",
       "      <td>Floors:  Tile - Hard, Wood Vaulted Ceiling, In...</td>\n",
       "      <td>Patio-Covered, Private BackYard, Sidewalk Fenced</td>\n",
       "      <td>Extraterritorial Jurisdiction:  Has Extraterri...</td>\n",
       "      <td>Utility/Laundry Room</td>\n",
       "      <td># of Fireplaces:  1 Fireplace Features:  In Fa...</td>\n",
       "      <td>NaN</td>\n",
       "      <td>NaN</td>\n",
       "      <td>NaN</td>\n",
       "    </tr>\n",
       "    <tr>\n",
       "      <th>2</th>\n",
       "      <td>4</td>\n",
       "      <td>NaN</td>\n",
       "      <td># of Full Bathrooms:  2</td>\n",
       "      <td>Room Count:  7 Additional Rooms:  Attic, Flori...</td>\n",
       "      <td>Appliances:  Dishwasher, Disposal, Dryer, Elec...</td>\n",
       "      <td>Exterior Features:  French Doors, Rain Gutters...</td>\n",
       "      <td>Living Area:  1,820 Living Area Units:  Square...</td>\n",
       "      <td>NaN</td>\n",
       "      <td>NaN</td>\n",
       "      <td>Flooring:  Engineered Hardwood, Tile</td>\n",
       "      <td>NaN</td>\n",
       "      <td>NaN</td>\n",
       "    </tr>\n",
       "    <tr>\n",
       "      <th>3</th>\n",
       "      <td>5</td>\n",
       "      <td># of Bedrooms On 2nd Upper Level:  2 # of Bedr...</td>\n",
       "      <td># of Bathrooms (Full) On 2nd Upper Level:  2 #...</td>\n",
       "      <td>Living Room, Kitchen, Den, Bedroom 1, Study La...</td>\n",
       "      <td>Not Furnished Interior Features:  Elevator, Wo...</td>\n",
       "      <td>NaN</td>\n",
       "      <td>Not Federal Flood Zone Total Below Grade Sq. F...</td>\n",
       "      <td>NaN</td>\n",
       "      <td>Has Fireplace # of Fireplaces:  1 Gas/Propane</td>\n",
       "      <td>NaN</td>\n",
       "      <td>NaN</td>\n",
       "      <td>NaN</td>\n",
       "    </tr>\n",
       "    <tr>\n",
       "      <th>4</th>\n",
       "      <td>7</td>\n",
       "      <td># of Bedrooms On 1st Upper Level:  4 # of Bedr...</td>\n",
       "      <td># of Bathrooms (Full) On 1st Upper Level:  2 #...</td>\n",
       "      <td>Dining Room, Master Bedroom, Bedroom 2, Bedroo...</td>\n",
       "      <td>Appliances:  Intercom, Built-In Range, Dishwas...</td>\n",
       "      <td>Hot Tub Fencing:  Invisible</td>\n",
       "      <td>Not Federal Flood Zone Total Below Grade Sq. F...</td>\n",
       "      <td>NaN</td>\n",
       "      <td># of Fireplaces:  1 Wood</td>\n",
       "      <td>NaN</td>\n",
       "      <td>NaN</td>\n",
       "      <td>NaN</td>\n",
       "    </tr>\n",
       "  </tbody>\n",
       "</table>\n",
       "</div>"
      ],
      "text/plain": [
       "   id                                       Bedroom Info  \\\n",
       "0   0  # of Bedrooms (Above Grade):  3 # of Bedrooms ...   \n",
       "1   2  # of Beds (Main Level):  3 Has Master on Main ...   \n",
       "2   4                                                NaN   \n",
       "3   5  # of Bedrooms On 2nd Upper Level:  2 # of Bedr...   \n",
       "4   7  # of Bedrooms On 1st Upper Level:  4 # of Bedr...   \n",
       "\n",
       "                                       Bathroom Info  \\\n",
       "0  # of Baths (Full):  3 # of Baths (1/2):  1 # o...   \n",
       "1                                                NaN   \n",
       "2                            # of Full Bathrooms:  2   \n",
       "3  # of Bathrooms (Full) On 2nd Upper Level:  2 #...   \n",
       "4  # of Bathrooms (Full) On 1st Upper Level:  2 #...   \n",
       "\n",
       "                                          Rooms Info  \\\n",
       "0  Main Level Laundry # of Rooms (Above-Ground): ...   \n",
       "1  # of Dining Rooms:  1 # of Living Rooms:  1 Di...   \n",
       "2  Room Count:  7 Additional Rooms:  Attic, Flori...   \n",
       "3  Living Room, Kitchen, Den, Bedroom 1, Study La...   \n",
       "4  Dining Room, Master Bedroom, Bedroom 2, Bedroo...   \n",
       "\n",
       "                                       Interior Info  \\\n",
       "0  # of Fireplaces:  1 Living Has Fireplace Lower...   \n",
       "1  Floors:  Tile - Hard, Wood Vaulted Ceiling, In...   \n",
       "2  Appliances:  Dishwasher, Disposal, Dryer, Elec...   \n",
       "3  Not Furnished Interior Features:  Elevator, Wo...   \n",
       "4  Appliances:  Intercom, Built-In Range, Dishwas...   \n",
       "\n",
       "                                       Exterior Info  \\\n",
       "0  Deck(s) Exterior Material:  Brick, Vinyl Roofi...   \n",
       "1   Patio-Covered, Private BackYard, Sidewalk Fenced   \n",
       "2  Exterior Features:  French Doors, Rain Gutters...   \n",
       "3                                                NaN   \n",
       "4                        Hot Tub Fencing:  Invisible   \n",
       "\n",
       "                                       Property Info          Laundry Info  \\\n",
       "0  Additional Items:  Ceiling Fans, Humidifier, W...                   NaN   \n",
       "1  Extraterritorial Jurisdiction:  Has Extraterri...  Utility/Laundry Room   \n",
       "2  Living Area:  1,820 Living Area Units:  Square...                   NaN   \n",
       "3  Not Federal Flood Zone Total Below Grade Sq. F...                   NaN   \n",
       "4  Not Federal Flood Zone Total Below Grade Sq. F...                   NaN   \n",
       "\n",
       "                                      Fireplace Info  \\\n",
       "0                                                NaN   \n",
       "1  # of Fireplaces:  1 Fireplace Features:  In Fa...   \n",
       "2                                                NaN   \n",
       "3      Has Fireplace # of Fireplaces:  1 Gas/Propane   \n",
       "4                           # of Fireplaces:  1 Wood   \n",
       "\n",
       "                          Flooring Info Kitchen+Dining Info Living Room Info  \n",
       "0                                   NaN                 NaN              NaN  \n",
       "1                                   NaN                 NaN              NaN  \n",
       "2  Flooring:  Engineered Hardwood, Tile                 NaN              NaN  \n",
       "3                                   NaN                 NaN              NaN  \n",
       "4                                   NaN                 NaN              NaN  "
      ]
     },
     "execution_count": 2,
     "metadata": {},
     "output_type": "execute_result"
    }
   ],
   "source": [
    "df.head()"
   ]
  },
  {
   "cell_type": "code",
   "execution_count": 3,
   "metadata": {},
   "outputs": [
    {
     "data": {
      "text/plain": [
       "(16419, 12)"
      ]
     },
     "execution_count": 3,
     "metadata": {},
     "output_type": "execute_result"
    }
   ],
   "source": [
    "df.shape"
   ]
  },
  {
   "cell_type": "code",
   "execution_count": 4,
   "metadata": {},
   "outputs": [],
   "source": [
    "relevant_features = ['fireplace', \n",
    "                    'pool',\n",
    "                    'granite',\n",
    "                    'marble',\n",
    "                    'quartz',\n",
    "                    'laminate',\n",
    "                    'carpet',\n",
    "                    'wood',\n",
    "                    'washer',\n",
    "                    'dryer',\n",
    "                    'vaulted',\n",
    "                    'high ceiling',\n",
    "                    'patio',\n",
    "                     'deck',\n",
    "                     'island',\n",
    "                     'office',\n",
    "                     'bar',\n",
    "                     'walk',\n",
    "                     'pantry',\n",
    "                     'ceiling fan',\n",
    "                     'sky',\n",
    "                     'hot tub',\n",
    "                     'jacuzzi',\n",
    "                     'jets',\n",
    "                     'spa',\n",
    "                     'sauna'\n",
    "                    ]"
   ]
  },
  {
   "cell_type": "code",
   "execution_count": 5,
   "metadata": {},
   "outputs": [],
   "source": [
    "list_of_packages = relevant_features\n",
    "keyword_processor = KeywordProcessor()\n",
    "\n",
    "keyword_processor.add_keywords_from_list(list_of_packages)"
   ]
  },
  {
   "cell_type": "code",
   "execution_count": 6,
   "metadata": {},
   "outputs": [
    {
     "data": {
      "text/plain": [
       "Index(['id', 'Bedroom Info', 'Bathroom Info', 'Rooms Info', 'Interior Info',\n",
       "       'Exterior Info', 'Property Info', 'Laundry Info', 'Fireplace Info',\n",
       "       'Flooring Info', 'Kitchen+Dining Info', 'Living Room Info'],\n",
       "      dtype='object')"
      ]
     },
     "execution_count": 6,
     "metadata": {},
     "output_type": "execute_result"
    }
   ],
   "source": [
    "df.columns"
   ]
  },
  {
   "cell_type": "code",
   "execution_count": 7,
   "metadata": {},
   "outputs": [],
   "source": [
    "cols = df.columns.tolist()[1:]\n",
    "df = df.fillna('')\n",
    "rows = {}\n",
    "for x in df.iterrows():\n",
    "    new = {}\n",
    "    for col in cols:\n",
    "        keywords_found = keyword_processor.extract_keywords(x[1][col])\n",
    "        new[col] = keywords_found\n",
    "    rows[x[1]['id']] = new\n",
    "    \n",
    "new_df = pd.DataFrame(rows)"
   ]
  },
  {
   "cell_type": "code",
   "execution_count": 8,
   "metadata": {},
   "outputs": [],
   "source": [
    "new_df = new_df.T"
   ]
  },
  {
   "cell_type": "code",
   "execution_count": 9,
   "metadata": {},
   "outputs": [],
   "source": [
    "new_df.columns = cols"
   ]
  },
  {
   "cell_type": "code",
   "execution_count": 10,
   "metadata": {},
   "outputs": [],
   "source": [
    "# new_df.to_pickle('../data/labels_room_type.pkl')\n",
    "new_df.to_csv('../data/labels_room_type.csv')"
   ]
  },
  {
   "cell_type": "code",
   "execution_count": 11,
   "metadata": {},
   "outputs": [
    {
     "data": {
      "text/html": [
       "<div>\n",
       "<style scoped>\n",
       "    .dataframe tbody tr th:only-of-type {\n",
       "        vertical-align: middle;\n",
       "    }\n",
       "\n",
       "    .dataframe tbody tr th {\n",
       "        vertical-align: top;\n",
       "    }\n",
       "\n",
       "    .dataframe thead th {\n",
       "        text-align: right;\n",
       "    }\n",
       "</style>\n",
       "<table border=\"1\" class=\"dataframe\">\n",
       "  <thead>\n",
       "    <tr style=\"text-align: right;\">\n",
       "      <th></th>\n",
       "      <th>Bedroom Info</th>\n",
       "      <th>Bathroom Info</th>\n",
       "      <th>Rooms Info</th>\n",
       "      <th>Interior Info</th>\n",
       "      <th>Exterior Info</th>\n",
       "      <th>Property Info</th>\n",
       "      <th>Laundry Info</th>\n",
       "      <th>Fireplace Info</th>\n",
       "      <th>Flooring Info</th>\n",
       "      <th>Kitchen+Dining Info</th>\n",
       "      <th>Living Room Info</th>\n",
       "    </tr>\n",
       "  </thead>\n",
       "  <tbody>\n",
       "    <tr>\n",
       "      <th>0</th>\n",
       "      <td>[]</td>\n",
       "      <td>[]</td>\n",
       "      <td>[deck]</td>\n",
       "      <td>[]</td>\n",
       "      <td>[]</td>\n",
       "      <td>[fireplace, dryer, washer]</td>\n",
       "      <td>[]</td>\n",
       "      <td>[]</td>\n",
       "      <td>[]</td>\n",
       "      <td>[bar]</td>\n",
       "      <td>[pantry, bar]</td>\n",
       "    </tr>\n",
       "    <tr>\n",
       "      <th>2</th>\n",
       "      <td>[]</td>\n",
       "      <td>[walk, walk]</td>\n",
       "      <td>[patio]</td>\n",
       "      <td>[fireplace]</td>\n",
       "      <td>[]</td>\n",
       "      <td>[wood, vaulted, walk]</td>\n",
       "      <td>[]</td>\n",
       "      <td>[]</td>\n",
       "      <td>[]</td>\n",
       "      <td>[]</td>\n",
       "      <td>[granite, marble, walk, pantry]</td>\n",
       "    </tr>\n",
       "    <tr>\n",
       "      <th>4</th>\n",
       "      <td>[]</td>\n",
       "      <td>[]</td>\n",
       "      <td>[patio, patio]</td>\n",
       "      <td>[]</td>\n",
       "      <td>[]</td>\n",
       "      <td>[dryer, washer, wood, walk]</td>\n",
       "      <td>[]</td>\n",
       "      <td>[]</td>\n",
       "      <td>[]</td>\n",
       "      <td>[]</td>\n",
       "      <td>[]</td>\n",
       "    </tr>\n",
       "    <tr>\n",
       "      <th>5</th>\n",
       "      <td>[]</td>\n",
       "      <td>[]</td>\n",
       "      <td>[]</td>\n",
       "      <td>[fireplace]</td>\n",
       "      <td>[]</td>\n",
       "      <td>[wood]</td>\n",
       "      <td>[]</td>\n",
       "      <td>[]</td>\n",
       "      <td>[]</td>\n",
       "      <td>[]</td>\n",
       "      <td>[]</td>\n",
       "    </tr>\n",
       "    <tr>\n",
       "      <th>7</th>\n",
       "      <td>[]</td>\n",
       "      <td>[]</td>\n",
       "      <td>[hot tub]</td>\n",
       "      <td>[wood]</td>\n",
       "      <td>[]</td>\n",
       "      <td>[island, spa]</td>\n",
       "      <td>[]</td>\n",
       "      <td>[]</td>\n",
       "      <td>[]</td>\n",
       "      <td>[]</td>\n",
       "      <td>[]</td>\n",
       "    </tr>\n",
       "  </tbody>\n",
       "</table>\n",
       "</div>"
      ],
      "text/plain": [
       "  Bedroom Info Bathroom Info      Rooms Info Interior Info Exterior Info  \\\n",
       "0           []            []          [deck]            []            []   \n",
       "2           []  [walk, walk]         [patio]   [fireplace]            []   \n",
       "4           []            []  [patio, patio]            []            []   \n",
       "5           []            []              []   [fireplace]            []   \n",
       "7           []            []       [hot tub]        [wood]            []   \n",
       "\n",
       "                 Property Info Laundry Info Fireplace Info Flooring Info  \\\n",
       "0   [fireplace, dryer, washer]           []             []            []   \n",
       "2        [wood, vaulted, walk]           []             []            []   \n",
       "4  [dryer, washer, wood, walk]           []             []            []   \n",
       "5                       [wood]           []             []            []   \n",
       "7                [island, spa]           []             []            []   \n",
       "\n",
       "  Kitchen+Dining Info                 Living Room Info  \n",
       "0               [bar]                    [pantry, bar]  \n",
       "2                  []  [granite, marble, walk, pantry]  \n",
       "4                  []                               []  \n",
       "5                  []                               []  \n",
       "7                  []                               []  "
      ]
     },
     "execution_count": 11,
     "metadata": {},
     "output_type": "execute_result"
    }
   ],
   "source": [
    "new_df.head()"
   ]
  },
  {
   "cell_type": "code",
   "execution_count": 12,
   "metadata": {},
   "outputs": [
    {
     "data": {
      "text/plain": [
       "(16419, 11)"
      ]
     },
     "execution_count": 12,
     "metadata": {},
     "output_type": "execute_result"
    }
   ],
   "source": [
    "new_df.shape"
   ]
  },
  {
   "cell_type": "markdown",
   "metadata": {},
   "source": [
    "### Download CSV\n",
    "https://drive.google.com/open?id=1sRc3h-UlNau-rI8XC8gt9U-p-Ff4_gI3"
   ]
  },
  {
   "cell_type": "code",
   "execution_count": null,
   "metadata": {},
   "outputs": [],
   "source": []
  }
 ],
 "metadata": {
  "kernelspec": {
   "display_name": "thinkful-py3",
   "language": "python",
   "name": "thinkful-py3"
  },
  "language_info": {
   "codemirror_mode": {
    "name": "ipython",
    "version": 3
   },
   "file_extension": ".py",
   "mimetype": "text/x-python",
   "name": "python",
   "nbconvert_exporter": "python",
   "pygments_lexer": "ipython3",
   "version": "3.6.5"
  }
 },
 "nbformat": 4,
 "nbformat_minor": 2
}
