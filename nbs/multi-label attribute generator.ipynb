{
 "cells": [
  {
   "cell_type": "markdown",
   "metadata": {},
   "source": [
    "# Use CSS Selectors to generate features automatically"
   ]
  },
  {
   "cell_type": "code",
   "execution_count": 1,
   "metadata": {},
   "outputs": [],
   "source": [
    "import pandas as pd\n",
    "from scrapy.selector import Selector\n",
    "from pathlib import Path\n",
    "import os"
   ]
  },
  {
   "cell_type": "markdown",
   "metadata": {},
   "source": [
    "## Sample html page"
   ]
  },
  {
   "cell_type": "markdown",
   "metadata": {},
   "source": [
    "## We are interested in the amenities container\n",
    "\n",
    "```#property-details-scroll > div > div > div.amenities-container```"
   ]
  },
  {
   "cell_type": "code",
   "execution_count": 254,
   "metadata": {
    "scrolled": false
   },
   "outputs": [
    {
     "name": "stdout",
     "output_type": "stream",
     "text": [
      "CPU times: user 10min 22s, sys: 21.2 s, total: 10min 43s\n",
      "Wall time: 10min 55s\n"
     ]
    }
   ],
   "source": [
    "# %%time\n",
    "\n",
    "# path = Path('../data/html')\n",
    "\n",
    "# atts = []\n",
    "# for file in os.listdir(path):\n",
    "#     parsedAtrributes = [None]\n",
    "#     with open(path/file, 'r') as f:\n",
    "#         webpage = f.read()\n",
    "#     try:\n",
    "#         title = Selector(text=webpage).css('#property-details-scroll > div > div > div.amenities-container').get()\n",
    "#         t = Selector(text=title).xpath('//h4/text()').getall()\n",
    "#         featTypes = [p.get() for p in Selector(text=title).xpath('.//ul')]\n",
    "#         attributes = []\n",
    "#         for feat in featTypes:\n",
    "#             feature = Selector(text=feat).xpath('//li//text()').getall()\n",
    "#             attributes.append(feature)\n",
    "#         parsedAtrributes = dict(list(zip(t, attributes)))\n",
    "\n",
    "        \n",
    "#     except ValueError:\n",
    "#         continue\n",
    "#     atts.append((int(file.split('.html')[0]), parsedAtrributes))\n",
    "\n",
    "# df = pd.DataFrame(atts)\n",
    "\n",
    "# df.head()\n",
    "\n",
    "# %%time\n",
    "# with open('../data/rich_attributes.json', 'w') as fout:\n",
    "#     json.dump(atts, fout)"
   ]
  },
  {
   "cell_type": "markdown",
   "metadata": {},
   "source": [
    "# Uploaded File to Drive\n",
    "https://drive.google.com/uc?export=download&id=12pI7njO-k_24gli2rUU7u5AW6IoaDpVv"
   ]
  },
  {
   "cell_type": "code",
   "execution_count": 23,
   "metadata": {},
   "outputs": [],
   "source": [
    "import pandas as pd\n",
    "\n",
    "df = pd.read_json('https://drive.google.com/uc?export=download&id=12pI7njO-k_24gli2rUU7u5AW6IoaDpVv')"
   ]
  },
  {
   "cell_type": "code",
   "execution_count": 24,
   "metadata": {},
   "outputs": [
    {
     "data": {
      "text/html": [
       "<div>\n",
       "<style scoped>\n",
       "    .dataframe tbody tr th:only-of-type {\n",
       "        vertical-align: middle;\n",
       "    }\n",
       "\n",
       "    .dataframe tbody tr th {\n",
       "        vertical-align: top;\n",
       "    }\n",
       "\n",
       "    .dataframe thead th {\n",
       "        text-align: right;\n",
       "    }\n",
       "</style>\n",
       "<table border=\"1\" class=\"dataframe\">\n",
       "  <thead>\n",
       "    <tr style=\"text-align: right;\">\n",
       "      <th></th>\n",
       "      <th>0</th>\n",
       "      <th>1</th>\n",
       "    </tr>\n",
       "  </thead>\n",
       "  <tbody>\n",
       "    <tr>\n",
       "      <th>0</th>\n",
       "      <td>1375</td>\n",
       "      <td>{'Bedroom Information': ['# of Bedrooms (Above...</td>\n",
       "    </tr>\n",
       "    <tr>\n",
       "      <th>1</th>\n",
       "      <td>3348</td>\n",
       "      <td>{'Listing Information': ['Move-In Date: ', 'We...</td>\n",
       "    </tr>\n",
       "    <tr>\n",
       "      <th>2</th>\n",
       "      <td>11666</td>\n",
       "      <td>{'Virtual Tour': ['Virtual Tour (External Link...</td>\n",
       "    </tr>\n",
       "    <tr>\n",
       "      <th>3</th>\n",
       "      <td>9745</td>\n",
       "      <td>{'Listing Information': ['Listing Type: ', 'Si...</td>\n",
       "    </tr>\n",
       "    <tr>\n",
       "      <th>4</th>\n",
       "      <td>8857</td>\n",
       "      <td>{'Virtual Tour': ['Virtual Tour (External Link...</td>\n",
       "    </tr>\n",
       "  </tbody>\n",
       "</table>\n",
       "</div>"
      ],
      "text/plain": [
       "       0                                                  1\n",
       "0   1375  {'Bedroom Information': ['# of Bedrooms (Above...\n",
       "1   3348  {'Listing Information': ['Move-In Date: ', 'We...\n",
       "2  11666  {'Virtual Tour': ['Virtual Tour (External Link...\n",
       "3   9745  {'Listing Information': ['Listing Type: ', 'Si...\n",
       "4   8857  {'Virtual Tour': ['Virtual Tour (External Link..."
      ]
     },
     "execution_count": 24,
     "metadata": {},
     "output_type": "execute_result"
    }
   ],
   "source": [
    "df.head()"
   ]
  },
  {
   "cell_type": "code",
   "execution_count": 25,
   "metadata": {},
   "outputs": [
    {
     "data": {
      "text/plain": [
       "(18269, 2)"
      ]
     },
     "execution_count": 25,
     "metadata": {},
     "output_type": "execute_result"
    }
   ],
   "source": [
    "df.shape"
   ]
  },
  {
   "cell_type": "code",
   "execution_count": 46,
   "metadata": {},
   "outputs": [
    {
     "name": "stdout",
     "output_type": "stream",
     "text": [
      "CPU times: user 5min 48s, sys: 2.05 s, total: 5min 50s\n",
      "Wall time: 5min 51s\n"
     ]
    }
   ],
   "source": [
    "%%time\n",
    "\n",
    "new = pd.DataFrame()\n",
    "frames = []\n",
    "for i, row in enumerate(df.iterrows()):\n",
    "    frame = pd.DataFrame(pd.Series(row[1][1])).T\n",
    "    frame.index = [row[1][0]]\n",
    "    frames.append(frame)\n",
    "new = new.append(frames)\n",
    "#     display(frame[[col for col in frame.columns if 'Features' in col]])"
   ]
  },
  {
   "cell_type": "code",
   "execution_count": 55,
   "metadata": {},
   "outputs": [
    {
     "name": "stdout",
     "output_type": "stream",
     "text": [
      "CPU times: user 5min 15s, sys: 734 ms, total: 5min 16s\n",
      "Wall time: 5min 16s\n"
     ]
    }
   ],
   "source": [
    "%%time\n",
    "\n",
    "new = new.append(frames)"
   ]
  },
  {
   "cell_type": "code",
   "execution_count": 66,
   "metadata": {},
   "outputs": [
    {
     "data": {
      "text/plain": [
       "(18269, 528)"
      ]
     },
     "execution_count": 66,
     "metadata": {},
     "output_type": "execute_result"
    }
   ],
   "source": [
    "new.shape"
   ]
  },
  {
   "cell_type": "code",
   "execution_count": 129,
   "metadata": {},
   "outputs": [
    {
     "data": {
      "text/html": [
       "<div>\n",
       "<style scoped>\n",
       "    .dataframe tbody tr th:only-of-type {\n",
       "        vertical-align: middle;\n",
       "    }\n",
       "\n",
       "    .dataframe tbody tr th {\n",
       "        vertical-align: top;\n",
       "    }\n",
       "\n",
       "    .dataframe thead th {\n",
       "        text-align: right;\n",
       "    }\n",
       "</style>\n",
       "<table border=\"1\" class=\"dataframe\">\n",
       "  <thead>\n",
       "    <tr style=\"text-align: right;\">\n",
       "      <th></th>\n",
       "      <th>Insurance</th>\n",
       "      <th>Subdivision</th>\n",
       "      <th>Virtual Tour Branded</th>\n",
       "      <th>Virtual Tour URL</th>\n",
       "      <th>Virtual Tour Un Branded</th>\n",
       "      <th>1st Floor Information</th>\n",
       "      <th>1st Level</th>\n",
       "      <th>1st Level Rooms</th>\n",
       "      <th>2nd Floor Information</th>\n",
       "      <th>2nd Level Rooms</th>\n",
       "      <th>...</th>\n",
       "      <th>Waste Management Information</th>\n",
       "      <th>Water &amp; Sewer</th>\n",
       "      <th>Water &amp; Sewer Information</th>\n",
       "      <th>Water Body Information</th>\n",
       "      <th>Water Information</th>\n",
       "      <th>Waterfront Information</th>\n",
       "      <th>Waterfrontage Information</th>\n",
       "      <th>Window Information</th>\n",
       "      <th>Windows and Doors</th>\n",
       "      <th>Zoning</th>\n",
       "    </tr>\n",
       "  </thead>\n",
       "  <tbody>\n",
       "    <tr>\n",
       "      <th>11398</th>\n",
       "      <td>NaN</td>\n",
       "      <td>NaN</td>\n",
       "      <td>NaN</td>\n",
       "      <td>NaN</td>\n",
       "      <td>NaN</td>\n",
       "      <td>NaN</td>\n",
       "      <td>NaN</td>\n",
       "      <td>NaN</td>\n",
       "      <td>NaN</td>\n",
       "      <td>NaN</td>\n",
       "      <td>...</td>\n",
       "      <td>NaN</td>\n",
       "      <td>NaN</td>\n",
       "      <td>NaN</td>\n",
       "      <td>NaN</td>\n",
       "      <td>NaN</td>\n",
       "      <td>NaN</td>\n",
       "      <td>NaN</td>\n",
       "      <td>NaN</td>\n",
       "      <td>NaN</td>\n",
       "      <td>NaN</td>\n",
       "    </tr>\n",
       "    <tr>\n",
       "      <th>594</th>\n",
       "      <td>NaN</td>\n",
       "      <td>NaN</td>\n",
       "      <td>NaN</td>\n",
       "      <td>NaN</td>\n",
       "      <td>NaN</td>\n",
       "      <td>NaN</td>\n",
       "      <td>NaN</td>\n",
       "      <td>NaN</td>\n",
       "      <td>NaN</td>\n",
       "      <td>NaN</td>\n",
       "      <td>...</td>\n",
       "      <td>NaN</td>\n",
       "      <td>NaN</td>\n",
       "      <td>NaN</td>\n",
       "      <td>NaN</td>\n",
       "      <td>NaN</td>\n",
       "      <td>NaN</td>\n",
       "      <td>NaN</td>\n",
       "      <td>NaN</td>\n",
       "      <td>NaN</td>\n",
       "      <td>NaN</td>\n",
       "    </tr>\n",
       "    <tr>\n",
       "      <th>242</th>\n",
       "      <td>NaN</td>\n",
       "      <td>NaN</td>\n",
       "      <td>NaN</td>\n",
       "      <td>NaN</td>\n",
       "      <td>NaN</td>\n",
       "      <td>NaN</td>\n",
       "      <td>NaN</td>\n",
       "      <td>NaN</td>\n",
       "      <td>NaN</td>\n",
       "      <td>NaN</td>\n",
       "      <td>...</td>\n",
       "      <td>NaN</td>\n",
       "      <td>NaN</td>\n",
       "      <td>NaN</td>\n",
       "      <td>NaN</td>\n",
       "      <td>NaN</td>\n",
       "      <td>NaN</td>\n",
       "      <td>NaN</td>\n",
       "      <td>[Window Treatments: , Blinds, Sliding Window(s)]</td>\n",
       "      <td>NaN</td>\n",
       "      <td>NaN</td>\n",
       "    </tr>\n",
       "    <tr>\n",
       "      <th>13165</th>\n",
       "      <td>NaN</td>\n",
       "      <td>NaN</td>\n",
       "      <td>NaN</td>\n",
       "      <td>NaN</td>\n",
       "      <td>NaN</td>\n",
       "      <td>NaN</td>\n",
       "      <td>NaN</td>\n",
       "      <td>NaN</td>\n",
       "      <td>NaN</td>\n",
       "      <td>NaN</td>\n",
       "      <td>...</td>\n",
       "      <td>NaN</td>\n",
       "      <td>NaN</td>\n",
       "      <td>NaN</td>\n",
       "      <td>NaN</td>\n",
       "      <td>NaN</td>\n",
       "      <td>NaN</td>\n",
       "      <td>NaN</td>\n",
       "      <td>NaN</td>\n",
       "      <td>NaN</td>\n",
       "      <td>NaN</td>\n",
       "    </tr>\n",
       "    <tr>\n",
       "      <th>9833</th>\n",
       "      <td>NaN</td>\n",
       "      <td>NaN</td>\n",
       "      <td>NaN</td>\n",
       "      <td>NaN</td>\n",
       "      <td>NaN</td>\n",
       "      <td>NaN</td>\n",
       "      <td>NaN</td>\n",
       "      <td>NaN</td>\n",
       "      <td>NaN</td>\n",
       "      <td>NaN</td>\n",
       "      <td>...</td>\n",
       "      <td>NaN</td>\n",
       "      <td>NaN</td>\n",
       "      <td>NaN</td>\n",
       "      <td>NaN</td>\n",
       "      <td>[Meter on Property]</td>\n",
       "      <td>NaN</td>\n",
       "      <td>NaN</td>\n",
       "      <td>NaN</td>\n",
       "      <td>NaN</td>\n",
       "      <td>NaN</td>\n",
       "    </tr>\n",
       "  </tbody>\n",
       "</table>\n",
       "<p>5 rows × 528 columns</p>\n",
       "</div>"
      ],
      "text/plain": [
       "       Insurance  Subdivision  Virtual Tour Branded  Virtual Tour URL  \\\n",
       "11398        NaN          NaN                   NaN               NaN   \n",
       "594          NaN          NaN                   NaN               NaN   \n",
       "242          NaN          NaN                   NaN               NaN   \n",
       "13165        NaN          NaN                   NaN               NaN   \n",
       "9833         NaN          NaN                   NaN               NaN   \n",
       "\n",
       "       Virtual Tour Un Branded 1st Floor Information 1st Level  \\\n",
       "11398                      NaN                   NaN       NaN   \n",
       "594                        NaN                   NaN       NaN   \n",
       "242                        NaN                   NaN       NaN   \n",
       "13165                      NaN                   NaN       NaN   \n",
       "9833                       NaN                   NaN       NaN   \n",
       "\n",
       "      1st Level Rooms 2nd Floor Information 2nd Level Rooms  ...  \\\n",
       "11398             NaN                   NaN             NaN  ...   \n",
       "594               NaN                   NaN             NaN  ...   \n",
       "242               NaN                   NaN             NaN  ...   \n",
       "13165             NaN                   NaN             NaN  ...   \n",
       "9833              NaN                   NaN             NaN  ...   \n",
       "\n",
       "      Waste Management Information Water & Sewer Water & Sewer Information  \\\n",
       "11398                          NaN           NaN                       NaN   \n",
       "594                            NaN           NaN                       NaN   \n",
       "242                            NaN           NaN                       NaN   \n",
       "13165                          NaN           NaN                       NaN   \n",
       "9833                           NaN           NaN                       NaN   \n",
       "\n",
       "      Water Body Information    Water Information Waterfront Information  \\\n",
       "11398                    NaN                  NaN                    NaN   \n",
       "594                      NaN                  NaN                    NaN   \n",
       "242                      NaN                  NaN                    NaN   \n",
       "13165                    NaN                  NaN                    NaN   \n",
       "9833                     NaN  [Meter on Property]                    NaN   \n",
       "\n",
       "      Waterfrontage Information  \\\n",
       "11398                       NaN   \n",
       "594                         NaN   \n",
       "242                         NaN   \n",
       "13165                       NaN   \n",
       "9833                        NaN   \n",
       "\n",
       "                                     Window Information Windows and Doors  \\\n",
       "11398                                               NaN               NaN   \n",
       "594                                                 NaN               NaN   \n",
       "242    [Window Treatments: , Blinds, Sliding Window(s)]               NaN   \n",
       "13165                                               NaN               NaN   \n",
       "9833                                                NaN               NaN   \n",
       "\n",
       "      Zoning  \n",
       "11398    NaN  \n",
       "594      NaN  \n",
       "242      NaN  \n",
       "13165    NaN  \n",
       "9833     NaN  \n",
       "\n",
       "[5 rows x 528 columns]"
      ]
     },
     "execution_count": 129,
     "metadata": {},
     "output_type": "execute_result"
    }
   ],
   "source": [
    "new.sample(n=5)"
   ]
  },
  {
   "cell_type": "markdown",
   "metadata": {},
   "source": [
    "# Parse each array value"
   ]
  },
  {
   "cell_type": "code",
   "execution_count": 85,
   "metadata": {
    "scrolled": true
   },
   "outputs": [
    {
     "data": {
      "text/plain": [
       "528"
      ]
     },
     "execution_count": 85,
     "metadata": {},
     "output_type": "execute_result"
    }
   ],
   "source": [
    "len(new.columns)"
   ]
  },
  {
   "cell_type": "markdown",
   "metadata": {},
   "source": [
    "# There are 528 features with some redundancies\n",
    "try reducing columns with regex"
   ]
  },
  {
   "cell_type": "code",
   "execution_count": 148,
   "metadata": {},
   "outputs": [],
   "source": [
    "import re\n",
    "\n",
    "def matcher(listOfData):\n",
    "    rooms = ['Interior Features', 'exterior', 'kitchen', 'dining', 'bed', \n",
    "             'bath', 'living', 'Fireplace', 'Floor',\n",
    "             'misc', 'Construction', 'Pool Information', \n",
    "             'property', 'Roof', 'Street Level Features',\n",
    "             'Amenities', 'Upper Level Features', \n",
    "             'Lower Level Features', 'window', 'doors'\n",
    "            ]\n",
    "\n",
    "    keepers = []\n",
    "    for room in rooms:\n",
    "        p = re.compile(room, re.IGNORECASE)\n",
    "        for feature in listOfData:\n",
    "            m = p.match(feature)\n",
    "            if m:\n",
    "                keepers.append(feature)\n",
    "    return keepers"
   ]
  },
  {
   "cell_type": "code",
   "execution_count": 152,
   "metadata": {},
   "outputs": [],
   "source": [
    "k = matcher(new.columns.tolist())"
   ]
  },
  {
   "cell_type": "code",
   "execution_count": 153,
   "metadata": {},
   "outputs": [
    {
     "data": {
      "text/plain": [
       "(18269, 67)"
      ]
     },
     "execution_count": 153,
     "metadata": {},
     "output_type": "execute_result"
    }
   ],
   "source": [
    "new[k].shape"
   ]
  },
  {
   "cell_type": "markdown",
   "metadata": {},
   "source": [
    "# Try reducing columns based on null count"
   ]
  },
  {
   "cell_type": "code",
   "execution_count": 98,
   "metadata": {},
   "outputs": [],
   "source": [
    "top_features = list(new[keepers].isnull().sum().sort_values()[:13].keys())"
   ]
  },
  {
   "cell_type": "code",
   "execution_count": 101,
   "metadata": {},
   "outputs": [
    {
     "data": {
      "text/plain": [
       "Property Information          2436\n",
       "Bathroom Information          4116\n",
       "Interior Features             5835\n",
       "Exterior Features             9682\n",
       "Bedroom Information          10341\n",
       "Property Features            14373\n",
       "Fireplace Information        14487\n",
       "Kitchen Information          14663\n",
       "Flooring Information         16198\n",
       "Exterior Information         16388\n",
       "Miscellaneous Information    16532\n",
       "Dining Room Information      17086\n",
       "Living Room Information      17105\n",
       "dtype: int64"
      ]
     },
     "execution_count": 101,
     "metadata": {},
     "output_type": "execute_result"
    }
   ],
   "source": [
    "new[top_features].isnull().sum()"
   ]
  },
  {
   "cell_type": "code",
   "execution_count": 108,
   "metadata": {},
   "outputs": [
    {
     "data": {
      "text/plain": [
       "Index(['Property Information', 'Bathroom Information', 'Interior Features',\n",
       "       'Exterior Features', 'Bedroom Information', 'Property Features',\n",
       "       'Fireplace Information', 'Kitchen Information', 'Flooring Information',\n",
       "       'Exterior Information', 'Miscellaneous Information',\n",
       "       'Dining Room Information', 'Living Room Information'],\n",
       "      dtype='object')"
      ]
     },
     "execution_count": 108,
     "metadata": {},
     "output_type": "execute_result"
    }
   ],
   "source": [
    "new[top_features].columns"
   ]
  },
  {
   "cell_type": "markdown",
   "metadata": {},
   "source": [
    "# Drop irrelevant columns"
   ]
  },
  {
   "cell_type": "code",
   "execution_count": 156,
   "metadata": {},
   "outputs": [],
   "source": [
    "top = new[['Interior Features', 'Exterior Features']]"
   ]
  },
  {
   "cell_type": "code",
   "execution_count": 161,
   "metadata": {},
   "outputs": [
    {
     "data": {
      "text/plain": [
       "array([[list(['Carpet, Ceramic Tile Floors, Vinyl Floors']), nan],\n",
       "       [nan, nan],\n",
       "       [nan, nan],\n",
       "       [list(['Interior Features: ', 'Pull-Down Attic Stairs, Walk-In Attic, Garden Tub, Kitchen Island, Pantry, Walk-In Closet(s), Walk-In Pantry', 'Laundry Room Location: ', '1st Floor, Laundry Room', 'Equipment: ', 'Pre-Wired for Cable, Ceiling Fan(s), Cooktop (Gas), Dishwasher, Disposal, Dryer, Ice Maker Connection, Microwave, Range/Hood, Security System, Wall Oven, Washer', 'Flooring: ', 'Wall-to-Wall Carpet, Pre-Finished Wood, Tile']),\n",
       "        list(['Deck', 'Exterior Construction: ', 'Fiber Cement, Stone', 'Driveway: ', 'Concrete', 'Porch: ', 'Front'])],\n",
       "       [list(['Main Sq. Ft.: ', '1,420', 'Flooring: ', 'Carpet, Tile Floors, Wood Floors', 'Heated Basement, Interior Basement Entrance, Remodeled, Smoke-Free, Updated, Utility Sink', 'Countertop Type: ', 'Quartz', '# of Fireplaces: ', '2', 'Fireplace Type: ', 'Gas/Gas Logs', 'Fireplace Location: ', 'Family Room, Living Room', 'Kitchen Appliances: ', 'Dishwasher, Disposal, Microwave Oven, Refrigerator, Stove/Range/Oven', 'Laundry Availability: ', 'Washer/Dryer Hookups in Unit']),\n",
       "        list(['Fence, Front Porch, Gutters, Maintenance Free Exterior, Patio, Sprinkler System, Yard'])]],\n",
       "      dtype=object)"
      ]
     },
     "execution_count": 161,
     "metadata": {},
     "output_type": "execute_result"
    }
   ],
   "source": [
    "top.sample(n=5).values"
   ]
  },
  {
   "cell_type": "code",
   "execution_count": 158,
   "metadata": {},
   "outputs": [],
   "source": [
    "top.to_csv('../data/multi_label_features.csv')"
   ]
  },
  {
   "cell_type": "code",
   "execution_count": 157,
   "metadata": {},
   "outputs": [
    {
     "data": {
      "text/plain": [
       "7636                                                   NaN\n",
       "14208                                                  NaN\n",
       "1245     [Floors (Tile), Closets (Walk-In), Carpet (Wal...\n",
       "16267    [Appliances: , Range/Oven-Gas, Refrigerator, D...\n",
       "4538     [Cable TV Available, Flat Screen Wiring, High ...\n",
       "4847                                     [Room Count: , 1]\n",
       "3188     [Flooring: , Carpet, Laminate, Tile Floors, Do...\n",
       "5921     [Cable Available, Security Alarm (owned), Wet ...\n",
       "7272     [# of Interior Levels: , 2, Windows: , Dual-Pa...\n",
       "3030                                                   NaN\n",
       "Name: Interior Features, dtype: object"
      ]
     },
     "metadata": {},
     "output_type": "display_data"
    },
    {
     "data": {
      "text/plain": [
       "7124                                                   NaN\n",
       "16116                                                  NaN\n",
       "1513          [Construction: , Other, Foundation: , Other]\n",
       "9134     [Deck, Exterior Construction: , Vinyl, Wood, D...\n",
       "2293     [Driveway: Paved: , Concrete, Driveway: , Car(...\n",
       "3576     [Roof: , Composition, Exterior Construction: ,...\n",
       "15663    [Covered Porch(es), Patio Covered, Roof: , Com...\n",
       "8752                                                   NaN\n",
       "3998                                                   NaN\n",
       "16163                         [Exterior Features: , Other]\n",
       "Name: Exterior Features, dtype: object"
      ]
     },
     "metadata": {},
     "output_type": "display_data"
    }
   ],
   "source": [
    "for col in top.columns:\n",
    "    display(top[col].sample(n=10))"
   ]
  },
  {
   "cell_type": "code",
   "execution_count": null,
   "metadata": {},
   "outputs": [],
   "source": []
  }
 ],
 "metadata": {
  "kernelspec": {
   "display_name": "thinkful-py3",
   "language": "python",
   "name": "thinkful-py3"
  },
  "language_info": {
   "codemirror_mode": {
    "name": "ipython",
    "version": 3
   },
   "file_extension": ".py",
   "mimetype": "text/x-python",
   "name": "python",
   "nbconvert_exporter": "python",
   "pygments_lexer": "ipython3",
   "version": "3.6.5"
  }
 },
 "nbformat": 4,
 "nbformat_minor": 2
}
